{
 "cells": [
  {
   "cell_type": "code",
   "execution_count": 20,
   "id": "refined-communist",
   "metadata": {},
   "outputs": [],
   "source": [
    "import warnings\n",
    "warnings.filterwarnings('ignore')"
   ]
  },
  {
   "cell_type": "code",
   "execution_count": 21,
   "id": "broke-questionnaire",
   "metadata": {},
   "outputs": [],
   "source": [
    "import tensorflow as tf\n",
    "from tensorflow import keras\n",
    "from tensorflow.keras import Sequential\n",
    "from tensorflow.keras.layers import Flatten, Dense, Dropout, BatchNormalization\n",
    "from tensorflow.keras.layers import Conv1D, MaxPool1D\n",
    "\n",
    "from tensorflow.keras.optimizers import Adam"
   ]
  },
  {
   "cell_type": "code",
   "execution_count": 22,
   "id": "sticky-equilibrium",
   "metadata": {},
   "outputs": [],
   "source": [
    "import pandas as pd\n",
    "import numpy as np\n",
    "import seaborn as sns\n",
    "import matplotlib.pyplot as plt"
   ]
  },
  {
   "cell_type": "code",
   "execution_count": 23,
   "id": "monthly-roman",
   "metadata": {},
   "outputs": [],
   "source": [
    "from sklearn import datasets, metrics\n",
    "from sklearn.model_selection import train_test_split\n",
    "from sklearn.preprocessing import StandardScaler"
   ]
  },
  {
   "cell_type": "code",
   "execution_count": 24,
   "id": "collectible-doubt",
   "metadata": {},
   "outputs": [],
   "source": [
    "bank_note = pd.read_csv('D:/Project/BankNote.csv')"
   ]
  },
  {
   "cell_type": "code",
   "execution_count": 25,
   "id": "starting-insert",
   "metadata": {},
   "outputs": [
    {
     "data": {
      "text/html": [
       "<div>\n",
       "<style scoped>\n",
       "    .dataframe tbody tr th:only-of-type {\n",
       "        vertical-align: middle;\n",
       "    }\n",
       "\n",
       "    .dataframe tbody tr th {\n",
       "        vertical-align: top;\n",
       "    }\n",
       "\n",
       "    .dataframe thead th {\n",
       "        text-align: right;\n",
       "    }\n",
       "</style>\n",
       "<table border=\"1\" class=\"dataframe\">\n",
       "  <thead>\n",
       "    <tr style=\"text-align: right;\">\n",
       "      <th></th>\n",
       "      <th>variance</th>\n",
       "      <th>skewness</th>\n",
       "      <th>curtosis</th>\n",
       "      <th>entropy</th>\n",
       "      <th>class</th>\n",
       "    </tr>\n",
       "  </thead>\n",
       "  <tbody>\n",
       "    <tr>\n",
       "      <th>0</th>\n",
       "      <td>3.62160</td>\n",
       "      <td>8.6661</td>\n",
       "      <td>-2.8073</td>\n",
       "      <td>-0.44699</td>\n",
       "      <td>0</td>\n",
       "    </tr>\n",
       "    <tr>\n",
       "      <th>1</th>\n",
       "      <td>4.54590</td>\n",
       "      <td>8.1674</td>\n",
       "      <td>-2.4586</td>\n",
       "      <td>-1.46210</td>\n",
       "      <td>0</td>\n",
       "    </tr>\n",
       "    <tr>\n",
       "      <th>2</th>\n",
       "      <td>3.86600</td>\n",
       "      <td>-2.6383</td>\n",
       "      <td>1.9242</td>\n",
       "      <td>0.10645</td>\n",
       "      <td>0</td>\n",
       "    </tr>\n",
       "    <tr>\n",
       "      <th>3</th>\n",
       "      <td>3.45660</td>\n",
       "      <td>9.5228</td>\n",
       "      <td>-4.0112</td>\n",
       "      <td>-3.59440</td>\n",
       "      <td>0</td>\n",
       "    </tr>\n",
       "    <tr>\n",
       "      <th>4</th>\n",
       "      <td>0.32924</td>\n",
       "      <td>-4.4552</td>\n",
       "      <td>4.5718</td>\n",
       "      <td>-0.98880</td>\n",
       "      <td>0</td>\n",
       "    </tr>\n",
       "  </tbody>\n",
       "</table>\n",
       "</div>"
      ],
      "text/plain": [
       "   variance  skewness  curtosis  entropy  class\n",
       "0   3.62160    8.6661   -2.8073 -0.44699      0\n",
       "1   4.54590    8.1674   -2.4586 -1.46210      0\n",
       "2   3.86600   -2.6383    1.9242  0.10645      0\n",
       "3   3.45660    9.5228   -4.0112 -3.59440      0\n",
       "4   0.32924   -4.4552    4.5718 -0.98880      0"
      ]
     },
     "execution_count": 25,
     "metadata": {},
     "output_type": "execute_result"
    }
   ],
   "source": [
    "bank_note.head()"
   ]
  },
  {
   "cell_type": "code",
   "execution_count": 26,
   "id": "worth-cross",
   "metadata": {},
   "outputs": [
    {
     "name": "stdout",
     "output_type": "stream",
     "text": [
      "          variance     skewness     curtosis      entropy        class\n",
      "count  1372.000000  1372.000000  1372.000000  1372.000000  1372.000000\n",
      "mean      0.433735     1.922353     1.397627    -1.191657     0.444606\n",
      "std       2.842763     5.869047     4.310030     2.101013     0.497103\n",
      "min      -7.042100   -13.773100    -5.286100    -8.548200     0.000000\n",
      "25%      -1.773000    -1.708200    -1.574975    -2.413450     0.000000\n",
      "50%       0.496180     2.319650     0.616630    -0.586650     0.000000\n",
      "75%       2.821475     6.814625     3.179250     0.394810     1.000000\n",
      "max       6.824800    12.951600    17.927400     2.449500     1.000000\n"
     ]
    },
    {
     "data": {
      "image/png": "[encoded data removed]",
      "text/plain": [
       "<Figure size 432x288 with 6 Axes>"
      ]
     },
     "metadata": {
      "needs_background": "light"
     },
     "output_type": "display_data"
    }
   ],
   "source": [
    "print(bank_note.describe())\n",
    "# plot histograms\n",
    "bank_note.hist()\n",
    "plt.show()"
   ]
  },
  {
   "cell_type": "code",
   "execution_count": 29,
   "id": "rolled-shuttle",
   "metadata": {},
   "outputs": [],
   "source": [
    "X = bank_note.drop('class', axis=1) #Input variables\n",
    "# axis=1 indicates that a column will be dropped\n",
    "y = bank_note['class']  # Target variable"
   ]
  },
  {
   "cell_type": "code",
   "execution_count": 31,
   "id": "hidden-pendant",
   "metadata": {},
   "outputs": [],
   "source": [
    "scaler = StandardScaler()\n",
    "\n",
    "X=pd.DataFrame(scaler.fit_transform(X),columns=X.columns)"
   ]
  },
  {
   "cell_type": "code",
   "execution_count": 32,
   "id": "devoted-training",
   "metadata": {},
   "outputs": [],
   "source": [
    "X_train, X_test, y_train, y_test = train_test_split(X, y, test_size=0.2, random_state=42)"
   ]
  },
  {
   "cell_type": "code",
   "execution_count": 33,
   "id": "wrong-fisher",
   "metadata": {},
   "outputs": [],
   "source": [
    "# Building the model\n",
    "model = Sequential()\n",
    "model.add(Dense(8, activation='relu', input_shape=(X_train.shape[1],)))   \n",
    "model.add(Dense(1, activation='sigmoid'))"
   ]
  },
  {
   "cell_type": "code",
   "execution_count": 34,
   "id": "conditional-power",
   "metadata": {},
   "outputs": [],
   "source": [
    "# Compiling the model\n",
    "from tensorflow.keras.optimizers import Adam\n",
    "model.compile(loss='binary_crossentropy', optimizer= 'adam' , metrics=['accuracy'])"
   ]
  },
  {
   "cell_type": "code",
   "execution_count": 35,
   "id": "grateful-excellence",
   "metadata": {},
   "outputs": [
    {
     "name": "stdout",
     "output_type": "stream",
     "text": [
      "Epoch 1/20\n",
      "88/88 [==============================] - 1s 3ms/step - loss: 0.5704 - accuracy: 0.7467 - val_loss: 0.5189 - val_accuracy: 0.8136\n",
      "Epoch 2/20\n",
      "88/88 [==============================] - 0s 1ms/step - loss: 0.4948 - accuracy: 0.8042 - val_loss: 0.4445 - val_accuracy: 0.8682\n",
      "Epoch 3/20\n",
      "88/88 [==============================] - 0s 1ms/step - loss: 0.4263 - accuracy: 0.8604 - val_loss: 0.3830 - val_accuracy: 0.8864\n",
      "Epoch 4/20\n",
      "88/88 [==============================] - 0s 1ms/step - loss: 0.3669 - accuracy: 0.8674 - val_loss: 0.3293 - val_accuracy: 0.8955\n",
      "Epoch 5/20\n",
      "88/88 [==============================] - 0s 1ms/step - loss: 0.3057 - accuracy: 0.9086 - val_loss: 0.2813 - val_accuracy: 0.9318\n",
      "Epoch 6/20\n",
      "88/88 [==============================] - 0s 2ms/step - loss: 0.2648 - accuracy: 0.9289 - val_loss: 0.2392 - val_accuracy: 0.9409\n",
      "Epoch 7/20\n",
      "88/88 [==============================] - 0s 1ms/step - loss: 0.2415 - accuracy: 0.9279 - val_loss: 0.1989 - val_accuracy: 0.9682\n",
      "Epoch 8/20\n",
      "88/88 [==============================] - 0s 1ms/step - loss: 0.1862 - accuracy: 0.9598 - val_loss: 0.1661 - val_accuracy: 0.9773\n",
      "Epoch 9/20\n",
      "88/88 [==============================] - 0s 1ms/step - loss: 0.1543 - accuracy: 0.9614 - val_loss: 0.1409 - val_accuracy: 0.9818\n",
      "Epoch 10/20\n",
      "88/88 [==============================] - 0s 1ms/step - loss: 0.1618 - accuracy: 0.9498 - val_loss: 0.1215 - val_accuracy: 0.9818\n",
      "Epoch 11/20\n",
      "88/88 [==============================] - 0s 2ms/step - loss: 0.1233 - accuracy: 0.9690 - val_loss: 0.1062 - val_accuracy: 0.9818\n",
      "Epoch 12/20\n",
      "88/88 [==============================] - 0s 1ms/step - loss: 0.1113 - accuracy: 0.9719 - val_loss: 0.0936 - val_accuracy: 0.9864\n",
      "Epoch 13/20\n",
      "88/88 [==============================] - 0s 1ms/step - loss: 0.1007 - accuracy: 0.9753 - val_loss: 0.0832 - val_accuracy: 0.9864\n",
      "Epoch 14/20\n",
      "88/88 [==============================] - 0s 1ms/step - loss: 0.0933 - accuracy: 0.9670 - val_loss: 0.0746 - val_accuracy: 0.9864\n",
      "Epoch 15/20\n",
      "88/88 [==============================] - 0s 1ms/step - loss: 0.0846 - accuracy: 0.9735 - val_loss: 0.0673 - val_accuracy: 0.9864\n",
      "Epoch 16/20\n",
      "88/88 [==============================] - 0s 2ms/step - loss: 0.0734 - accuracy: 0.9808 - val_loss: 0.0614 - val_accuracy: 0.9864\n",
      "Epoch 17/20\n",
      "88/88 [==============================] - 0s 1ms/step - loss: 0.0686 - accuracy: 0.9803 - val_loss: 0.0562 - val_accuracy: 0.9864\n",
      "Epoch 18/20\n",
      "88/88 [==============================] - 0s 1ms/step - loss: 0.0670 - accuracy: 0.9742 - val_loss: 0.0518 - val_accuracy: 0.9864\n",
      "Epoch 19/20\n",
      "88/88 [==============================] - 0s 1ms/step - loss: 0.0653 - accuracy: 0.9786 - val_loss: 0.0480 - val_accuracy: 0.9864\n",
      "Epoch 20/20\n",
      "88/88 [==============================] - 0s 2ms/step - loss: 0.0641 - accuracy: 0.9721 - val_loss: 0.0447 - val_accuracy: 0.9864\n"
     ]
    }
   ],
   "source": [
    "history = model.fit(X_train, y_train, validation_split=0.2, epochs=20, batch_size=10, verbose=1)"
   ]
  },
  {
   "cell_type": "markdown",
   "id": "alert-craps",
   "metadata": {},
   "source": [
    "Model Accuracy is 98.6"
   ]
  },
  {
   "cell_type": "code",
   "execution_count": 36,
   "id": "advanced-slovenia",
   "metadata": {},
   "outputs": [
    {
     "name": "stdout",
     "output_type": "stream",
     "text": [
      "9/9 [==============================] - 0s 1ms/step - loss: 0.0649 - accuracy: 0.9782\n"
     ]
    },
    {
     "data": {
      "text/plain": [
       "[0.06489503383636475, 0.9781818389892578]"
      ]
     },
     "execution_count": 36,
     "metadata": {},
     "output_type": "execute_result"
    }
   ],
   "source": [
    "model.evaluate(X_test, y_test)"
   ]
  },
  {
   "cell_type": "markdown",
   "id": "enhanced-facing",
   "metadata": {},
   "source": [
    "plotting the accuracy and loss curves for training and validation data"
   ]
  },
  {
   "cell_type": "code",
   "execution_count": 37,
   "id": "enclosed-bandwidth",
   "metadata": {},
   "outputs": [
    {
     "data": {
      "image/png": "[encoded data removed]",
      "text/plain": [
       "<Figure size 432x288 with 1 Axes>"
      ]
     },
     "metadata": {
      "needs_background": "light"
     },
     "output_type": "display_data"
    }
   ],
   "source": [
    "plt.plot(history.history['accuracy'])\n",
    "plt.plot(history.history['val_accuracy'])\n",
    "plt.title('Model Accuracy')\n",
    "plt.ylabel('accuracy')\n",
    "plt.xlabel('epoch')\n",
    "plt.legend(['Train', 'Validation'])\n",
    "plt.show()"
   ]
  },
  {
   "cell_type": "code",
   "execution_count": 38,
   "id": "rural-spectacular",
   "metadata": {},
   "outputs": [
    {
     "data": {
      "image/png": "[encoded data removed]",
      "text/plain": [
       "<Figure size 432x288 with 1 Axes>"
      ]
     },
     "metadata": {
      "needs_background": "light"
     },
     "output_type": "display_data"
    }
   ],
   "source": [
    "plt.plot(history.history['loss'])\n",
    "plt.plot(history.history['val_loss'])\n",
    "plt.title('Model Loss')\n",
    "plt.ylabel('loss')\n",
    "plt.xlabel('epoch')\n",
    "plt.legend(['Train', 'Validation'])\n",
    "plt.show()"
   ]
  },
  {
   "cell_type": "code",
   "execution_count": 39,
   "id": "standing-guarantee",
   "metadata": {},
   "outputs": [
    {
     "name": "stdout",
     "output_type": "stream",
     "text": [
      "[[5.70219755e-03]\n",
      " [3.88028145e-01]\n",
      " [2.42013603e-01]\n",
      " [3.19141150e-03]\n",
      " [3.32942605e-03]\n",
      " [1.47280097e-03]\n",
      " [9.01907682e-03]\n",
      " [5.12927771e-04]\n",
      " [1.69336796e-03]\n",
      " [3.35103273e-03]\n",
      " [7.85844564e-01]\n",
      " [9.70820367e-01]\n",
      " [8.92788172e-03]\n",
      " [9.28484380e-01]\n",
      " [5.78478575e-02]\n",
      " [7.09333897e-01]\n",
      " [9.66367602e-01]\n",
      " [9.68110204e-01]\n",
      " [9.00700450e-01]\n",
      " [8.95441532e-01]\n",
      " [2.47168541e-03]\n",
      " [2.17622519e-03]\n",
      " [8.99330258e-01]\n",
      " [9.08374786e-04]\n",
      " [9.86683249e-01]\n",
      " [1.01903081e-03]\n",
      " [4.53442335e-04]\n",
      " [9.52270865e-01]\n",
      " [5.01562827e-05]\n",
      " [1.11688874e-04]\n",
      " [9.64593530e-01]\n",
      " [4.67494130e-03]\n",
      " [1.52202249e-02]\n",
      " [9.78298545e-01]\n",
      " [9.80192661e-01]\n",
      " [5.57094812e-04]\n",
      " [7.31685758e-01]\n",
      " [9.49350595e-01]\n",
      " [9.74067569e-01]\n",
      " [3.33884358e-03]\n",
      " [2.44581699e-03]\n",
      " [9.60079432e-01]\n",
      " [9.58091557e-01]\n",
      " [3.20202112e-03]\n",
      " [9.86365616e-01]\n",
      " [9.51833487e-01]\n",
      " [9.80353594e-01]\n",
      " [6.60493970e-03]\n",
      " [6.51594996e-03]\n",
      " [8.15304220e-01]\n",
      " [6.10756874e-03]\n",
      " [3.38286161e-04]\n",
      " [1.21289492e-02]\n",
      " [8.54104757e-04]\n",
      " [3.21258307e-02]\n",
      " [9.48109746e-01]\n",
      " [1.19049847e-02]\n",
      " [3.09526920e-04]\n",
      " [3.10528278e-03]\n",
      " [1.07592344e-03]\n",
      " [9.80161130e-01]\n",
      " [2.35292315e-03]\n",
      " [8.45783472e-01]\n",
      " [2.72363424e-04]\n",
      " [5.37720323e-03]\n",
      " [4.81665134e-04]\n",
      " [1.15540624e-03]\n",
      " [3.37544084e-03]\n",
      " [2.68651605e-01]\n",
      " [8.52759004e-01]\n",
      " [8.80936146e-01]\n",
      " [3.30954790e-03]\n",
      " [9.11675096e-01]\n",
      " [1.32232904e-04]\n",
      " [8.83297563e-01]\n",
      " [6.51631355e-01]\n",
      " [3.02523375e-03]\n",
      " [9.72559690e-01]\n",
      " [9.71299469e-01]\n",
      " [9.19087291e-01]\n",
      " [9.26948369e-01]\n",
      " [1.65802926e-01]\n",
      " [9.16127503e-01]\n",
      " [2.71111727e-03]\n",
      " [8.63230526e-02]\n",
      " [2.14099884e-04]\n",
      " [1.25336647e-03]\n",
      " [9.85004306e-01]\n",
      " [7.11006165e-01]\n",
      " [2.51832604e-03]\n",
      " [9.95486975e-04]\n",
      " [1.34062767e-03]\n",
      " [8.89819503e-01]\n",
      " [9.61106896e-01]\n",
      " [2.92465091e-03]\n",
      " [9.63050485e-01]\n",
      " [9.86097097e-01]\n",
      " [7.71273971e-02]\n",
      " [2.76374817e-03]\n",
      " [2.27581859e-02]\n",
      " [9.73650694e-01]\n",
      " [1.29631162e-03]\n",
      " [1.05511844e-02]\n",
      " [2.26476789e-03]\n",
      " [9.79752660e-01]\n",
      " [3.79592180e-04]\n",
      " [1.94531679e-03]\n",
      " [8.95682275e-01]\n",
      " [9.62017894e-01]\n",
      " [8.95670533e-01]\n",
      " [9.71405506e-01]\n",
      " [9.06368196e-01]\n",
      " [8.00967216e-04]\n",
      " [9.78874803e-01]\n",
      " [9.58064079e-01]\n",
      " [9.83496308e-01]\n",
      " [1.82121992e-04]\n",
      " [9.85003054e-01]\n",
      " [9.90329385e-01]\n",
      " [7.76737928e-04]\n",
      " [8.99232447e-01]\n",
      " [5.26827574e-03]\n",
      " [7.76535749e-01]\n",
      " [6.95466995e-04]\n",
      " [6.47576332e-01]\n",
      " [6.42442703e-03]\n",
      " [9.79521632e-01]\n",
      " [9.48067725e-01]\n",
      " [5.02583385e-03]\n",
      " [9.71920967e-01]\n",
      " [9.71251845e-01]\n",
      " [4.90611792e-03]\n",
      " [1.41091943e-02]\n",
      " [2.87884474e-03]\n",
      " [4.97519970e-04]\n",
      " [6.66853786e-03]\n",
      " [9.65947807e-01]\n",
      " [2.47001648e-04]\n",
      " [1.16964579e-02]\n",
      " [7.43758798e-01]\n",
      " [2.76252627e-03]\n",
      " [9.54943895e-03]\n",
      " [9.61872220e-01]\n",
      " [5.96550107e-03]\n",
      " [9.32138503e-01]\n",
      " [3.99323225e-01]\n",
      " [7.94659376e-01]\n",
      " [9.24153686e-01]\n",
      " [9.49531436e-01]\n",
      " [1.43417716e-03]\n",
      " [8.59670162e-01]\n",
      " [9.56689775e-01]\n",
      " [9.87213254e-01]\n",
      " [1.27047300e-04]\n",
      " [9.00485814e-01]\n",
      " [4.06473875e-04]\n",
      " [9.47242141e-01]\n",
      " [7.53560662e-03]\n",
      " [3.23396921e-03]\n",
      " [2.82984972e-03]\n",
      " [9.88539398e-01]\n",
      " [9.81140375e-01]\n",
      " [9.85308290e-01]\n",
      " [9.68468189e-01]\n",
      " [9.27844167e-01]\n",
      " [8.04871321e-04]\n",
      " [9.78723645e-01]\n",
      " [1.78921223e-03]\n",
      " [3.32236290e-04]\n",
      " [4.16928530e-03]\n",
      " [1.67395800e-01]\n",
      " [7.87287951e-04]\n",
      " [3.69235873e-03]\n",
      " [9.82095957e-01]\n",
      " [3.21498513e-03]\n",
      " [3.81481647e-03]\n",
      " [9.76000845e-01]\n",
      " [9.89926815e-01]\n",
      " [1.68828666e-02]\n",
      " [4.20510769e-04]\n",
      " [1.29575342e-01]\n",
      " [5.18351793e-03]\n",
      " [9.81267452e-01]\n",
      " [3.62581015e-03]\n",
      " [9.79731381e-01]\n",
      " [1.21167302e-03]\n",
      " [9.71486211e-01]\n",
      " [9.73080754e-01]\n",
      " [8.78542662e-04]\n",
      " [1.80739164e-03]\n",
      " [9.64825332e-01]\n",
      " [1.71428919e-03]\n",
      " [1.32037699e-02]\n",
      " [9.85365629e-01]\n",
      " [9.69681680e-01]\n",
      " [9.49166000e-01]\n",
      " [9.32651281e-01]\n",
      " [2.37880647e-02]\n",
      " [6.93328679e-02]\n",
      " [9.75563049e-01]\n",
      " [9.82490659e-01]\n",
      " [9.77141380e-01]\n",
      " [2.53191590e-03]\n",
      " [4.61336970e-03]\n",
      " [9.80383158e-01]\n",
      " [9.83905554e-01]\n",
      " [9.65987444e-01]\n",
      " [9.52579379e-01]\n",
      " [3.39809060e-02]\n",
      " [1.09893084e-03]\n",
      " [5.65556765e-01]\n",
      " [5.79595566e-04]\n",
      " [5.09423018e-03]\n",
      " [3.50293815e-02]\n",
      " [2.65806913e-04]\n",
      " [7.51137733e-04]\n",
      " [6.51631355e-01]\n",
      " [4.93693352e-03]\n",
      " [9.72348213e-01]\n",
      " [9.28226769e-01]\n",
      " [9.72482562e-01]\n",
      " [9.72912073e-01]\n",
      " [9.74887550e-01]\n",
      " [7.98127055e-03]\n",
      " [9.59035993e-01]\n",
      " [7.06642866e-04]\n",
      " [5.01757860e-03]\n",
      " [9.65492845e-01]\n",
      " [9.42355633e-01]\n",
      " [9.68059242e-01]\n",
      " [9.64407921e-01]\n",
      " [2.56192684e-03]\n",
      " [8.43425274e-01]\n",
      " [5.48452139e-04]\n",
      " [8.58364224e-01]\n",
      " [9.82279897e-01]\n",
      " [9.40867126e-01]\n",
      " [9.79374766e-01]\n",
      " [2.88856030e-03]\n",
      " [2.67300010e-03]\n",
      " [4.84442115e-02]\n",
      " [9.81912673e-01]\n",
      " [3.48687172e-03]\n",
      " [9.79260564e-01]\n",
      " [9.45586324e-01]\n",
      " [9.82453823e-01]\n",
      " [8.37150216e-03]\n",
      " [1.98340416e-03]\n",
      " [5.42104244e-04]\n",
      " [8.48352909e-03]\n",
      " [7.53626082e-05]\n",
      " [2.60457397e-03]\n",
      " [9.84389901e-01]\n",
      " [1.79671437e-01]\n",
      " [3.06153476e-01]\n",
      " [2.74798274e-03]\n",
      " [1.35657191e-03]\n",
      " [1.86780095e-03]\n",
      " [9.56938505e-01]\n",
      " [9.75230932e-01]\n",
      " [9.66194272e-03]\n",
      " [7.50165880e-02]\n",
      " [8.20517540e-04]\n",
      " [9.66445327e-01]\n",
      " [9.29848552e-01]\n",
      " [1.72364712e-03]\n",
      " [9.70368147e-01]\n",
      " [1.76841021e-03]\n",
      " [9.84174013e-01]\n",
      " [9.09535527e-01]\n",
      " [9.66339707e-01]\n",
      " [7.96179771e-01]\n",
      " [1.13235414e-02]\n",
      " [3.88020873e-01]\n",
      " [8.45432281e-04]]\n"
     ]
    }
   ],
   "source": [
    "# Predictions\n",
    "\n",
    "y_pred = model.predict(X_test)\n",
    "print(y_pred)"
   ]
  },
  {
   "cell_type": "code",
   "execution_count": 40,
   "id": "incoming-profit",
   "metadata": {},
   "outputs": [
    {
     "data": {
      "text/plain": [
       "array([0., 0., 0., 0., 0., 0., 0., 0., 0., 0., 1., 1., 0., 1., 0., 1., 1.,\n",
       "       1., 1., 1., 0., 0., 1., 0., 1., 0., 0., 1., 0., 0., 1., 0., 0., 1.,\n",
       "       1., 0., 1., 1., 1., 0., 0., 1., 1., 0., 1., 1., 1., 0., 0., 1., 0.,\n",
       "       0., 0., 0., 0., 1., 0., 0., 0., 0., 1., 0., 1., 0., 0., 0., 0., 0.,\n",
       "       0., 1., 1., 0., 1., 0., 1., 1., 0., 1., 1., 1., 1., 0., 1., 0., 0.,\n",
       "       0., 0., 1., 1., 0., 0., 0., 1., 1., 0., 1., 1., 0., 0., 0., 1., 0.,\n",
       "       0., 0., 1., 0., 0., 1., 1., 1., 1., 1., 0., 1., 1., 1., 0., 1., 1.,\n",
       "       0., 1., 0., 1., 0., 1., 0., 1., 1., 0., 1., 1., 0., 0., 0., 0., 0.,\n",
       "       1., 0., 0., 1., 0., 0., 1., 0., 1., 0., 1., 1., 1., 0., 1., 1., 1.,\n",
       "       0., 1., 0., 1., 0., 0., 0., 1., 1., 1., 1., 1., 0., 1., 0., 0., 0.,\n",
       "       0., 0., 0., 1., 0., 0., 1., 1., 0., 0., 0., 0., 1., 0., 1., 0., 1.,\n",
       "       1., 0., 0., 1., 0., 0., 1., 1., 1., 1., 0., 0., 1., 1., 1., 0., 0.,\n",
       "       1., 1., 1., 1., 0., 0., 1., 0., 0., 0., 0., 0., 1., 0., 1., 1., 1.,\n",
       "       1., 1., 0., 1., 0., 0., 1., 1., 1., 1., 0., 1., 0., 1., 1., 1., 1.,\n",
       "       0., 0., 0., 1., 0., 1., 1., 1., 0., 0., 0., 0., 0., 0., 1., 0., 0.,\n",
       "       0., 0., 0., 1., 1., 0., 0., 0., 1., 1., 0., 1., 0., 1., 1., 1., 1.,\n",
       "       0., 0., 0.], dtype=float32)"
      ]
     },
     "execution_count": 40,
     "metadata": {},
     "output_type": "execute_result"
    }
   ],
   "source": [
    "import numpy as np\n",
    "y_pred = np.round(y_pred).flatten()\n",
    "y_pred"
   ]
  },
  {
   "cell_type": "code",
   "execution_count": 41,
   "id": "fluid-vessel",
   "metadata": {},
   "outputs": [
    {
     "name": "stdout",
     "output_type": "stream",
     "text": [
      "Accuracy Score: 0.9781818181818182\n"
     ]
    }
   ],
   "source": [
    "#Function to get model accuracy\n",
    "\n",
    "from sklearn.metrics import accuracy_score\n",
    "print('Accuracy Score:',accuracy_score(y_test,y_pred))"
   ]
  },
  {
   "cell_type": "code",
   "execution_count": 42,
   "id": "desperate-trainer",
   "metadata": {},
   "outputs": [
    {
     "data": {
      "text/plain": [
       "array([[144,   4],\n",
       "       [  2, 125]], dtype=int64)"
      ]
     },
     "execution_count": 42,
     "metadata": {},
     "output_type": "execute_result"
    }
   ],
   "source": [
    "from sklearn.metrics import confusion_matrix\n",
    "confusion_matrix(y_test,y_pred)"
   ]
  },
  {
   "cell_type": "code",
   "execution_count": 43,
   "id": "graphic-dictionary",
   "metadata": {},
   "outputs": [
    {
     "name": "stdout",
     "output_type": "stream",
     "text": [
      "              precision    recall  f1-score   support\n",
      "\n",
      "           0       0.99      0.97      0.98       148\n",
      "           1       0.97      0.98      0.98       127\n",
      "\n",
      "    accuracy                           0.98       275\n",
      "   macro avg       0.98      0.98      0.98       275\n",
      "weighted avg       0.98      0.98      0.98       275\n",
      "\n"
     ]
    }
   ],
   "source": [
    "from sklearn.metrics import classification_report\n",
    "print(classification_report(y_test,y_pred))"
   ]
  },
  {
   "cell_type": "code",
   "execution_count": null,
   "id": "historic-latvia",
   "metadata": {},
   "outputs": [],
   "source": []
  }
 ],
 "metadata": {
  "kernelspec": {
   "display_name": "Python 3",
   "language": "python",
   "name": "python3"
  },
  "language_info": {
   "codemirror_mode": {
    "name": "ipython",
    "version": 3
   },
   "file_extension": ".py",
   "mimetype": "text/x-python",
   "name": "python",
   "nbconvert_exporter": "python",
   "pygments_lexer": "ipython3",
   "version": "3.7.9"
  }
 },
 "nbformat": 4,
 "nbformat_minor": 5
}
