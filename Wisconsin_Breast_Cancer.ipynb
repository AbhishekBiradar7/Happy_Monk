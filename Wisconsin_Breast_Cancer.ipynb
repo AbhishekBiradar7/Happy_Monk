{
  "nbformat": 4,
  "nbformat_minor": 0,
  "metadata": {
    "colab": {
      "name": "Wisconsin_Breast_Cancer.ipynb",
      "provenance": []
    },
    "kernelspec": {
      "name": "python3",
      "display_name": "Python 3"
    },
    "language_info": {
      "name": "python"
    },
    "accelerator": "TPU"
  },
  "cells": [
    {
      "cell_type": "code",
      "metadata": {
        "id": "2jNMbSarw8zw"
      },
      "source": [
        "import tensorflow as tf\n",
        "from tensorflow import keras\n",
        "from tensorflow.keras import Sequential\n",
        "from tensorflow.keras.layers import Flatten, Dense, Dropout, BatchNormalization\n",
        "from tensorflow.keras.layers import Conv1D, MaxPool1D\n",
        "\n",
        "from tensorflow.keras.optimizers import Adam"
      ],
      "execution_count": 95,
      "outputs": []
    },
    {
      "cell_type": "code",
      "metadata": {
        "id": "k3K323Sly-0s"
      },
      "source": [
        "import pandas as pd\n",
        "import numpy as np\n",
        "import seaborn as sns\n",
        "import matplotlib.pyplot as plt\n"
      ],
      "execution_count": 96,
      "outputs": []
    },
    {
      "cell_type": "code",
      "metadata": {
        "id": "zH-sDdyRB99i"
      },
      "source": [
        "from sklearn import datasets, metrics\n",
        "from sklearn.model_selection import train_test_split\n",
        "from sklearn.preprocessing import StandardScaler"
      ],
      "execution_count": 97,
      "outputs": []
    },
    {
      "cell_type": "code",
      "metadata": {
        "id": "Q5wDqxfkCRbH"
      },
      "source": [
        "cancer = datasets.load_breast_cancer()"
      ],
      "execution_count": 98,
      "outputs": []
    },
    {
      "cell_type": "code",
      "metadata": {
        "colab": {
          "base_uri": "https://localhost:8080/"
        },
        "id": "586BB5G1CpSR",
        "outputId": "377b2123-8d09-4d58-ea8e-3fff680e963c"
      },
      "source": [
        "print(cancer.DESCR)"
      ],
      "execution_count": 99,
      "outputs": [
        {
          "output_type": "stream",
          "text": [
            ".. _breast_cancer_dataset:\n",
            "\n",
            "Breast cancer wisconsin (diagnostic) dataset\n",
            "--------------------------------------------\n",
            "\n",
            "**Data Set Characteristics:**\n",
            "\n",
            "    :Number of Instances: 569\n",
            "\n",
            "    :Number of Attributes: 30 numeric, predictive attributes and the class\n",
            "\n",
            "    :Attribute Information:\n",
            "        - radius (mean of distances from center to points on the perimeter)\n",
            "        - texture (standard deviation of gray-scale values)\n",
            "        - perimeter\n",
            "        - area\n",
            "        - smoothness (local variation in radius lengths)\n",
            "        - compactness (perimeter^2 / area - 1.0)\n",
            "        - concavity (severity of concave portions of the contour)\n",
            "        - concave points (number of concave portions of the contour)\n",
            "        - symmetry \n",
            "        - fractal dimension (\"coastline approximation\" - 1)\n",
            "\n",
            "        The mean, standard error, and \"worst\" or largest (mean of the three\n",
            "        largest values) of these features were computed for each image,\n",
            "        resulting in 30 features.  For instance, field 3 is Mean Radius, field\n",
            "        13 is Radius SE, field 23 is Worst Radius.\n",
            "\n",
            "        - class:\n",
            "                - WDBC-Malignant\n",
            "                - WDBC-Benign\n",
            "\n",
            "    :Summary Statistics:\n",
            "\n",
            "    ===================================== ====== ======\n",
            "                                           Min    Max\n",
            "    ===================================== ====== ======\n",
            "    radius (mean):                        6.981  28.11\n",
            "    texture (mean):                       9.71   39.28\n",
            "    perimeter (mean):                     43.79  188.5\n",
            "    area (mean):                          143.5  2501.0\n",
            "    smoothness (mean):                    0.053  0.163\n",
            "    compactness (mean):                   0.019  0.345\n",
            "    concavity (mean):                     0.0    0.427\n",
            "    concave points (mean):                0.0    0.201\n",
            "    symmetry (mean):                      0.106  0.304\n",
            "    fractal dimension (mean):             0.05   0.097\n",
            "    radius (standard error):              0.112  2.873\n",
            "    texture (standard error):             0.36   4.885\n",
            "    perimeter (standard error):           0.757  21.98\n",
            "    area (standard error):                6.802  542.2\n",
            "    smoothness (standard error):          0.002  0.031\n",
            "    compactness (standard error):         0.002  0.135\n",
            "    concavity (standard error):           0.0    0.396\n",
            "    concave points (standard error):      0.0    0.053\n",
            "    symmetry (standard error):            0.008  0.079\n",
            "    fractal dimension (standard error):   0.001  0.03\n",
            "    radius (worst):                       7.93   36.04\n",
            "    texture (worst):                      12.02  49.54\n",
            "    perimeter (worst):                    50.41  251.2\n",
            "    area (worst):                         185.2  4254.0\n",
            "    smoothness (worst):                   0.071  0.223\n",
            "    compactness (worst):                  0.027  1.058\n",
            "    concavity (worst):                    0.0    1.252\n",
            "    concave points (worst):               0.0    0.291\n",
            "    symmetry (worst):                     0.156  0.664\n",
            "    fractal dimension (worst):            0.055  0.208\n",
            "    ===================================== ====== ======\n",
            "\n",
            "    :Missing Attribute Values: None\n",
            "\n",
            "    :Class Distribution: 212 - Malignant, 357 - Benign\n",
            "\n",
            "    :Creator:  Dr. William H. Wolberg, W. Nick Street, Olvi L. Mangasarian\n",
            "\n",
            "    :Donor: Nick Street\n",
            "\n",
            "    :Date: November, 1995\n",
            "\n",
            "This is a copy of UCI ML Breast Cancer Wisconsin (Diagnostic) datasets.\n",
            "https://goo.gl/U2Uwz2\n",
            "\n",
            "Features are computed from a digitized image of a fine needle\n",
            "aspirate (FNA) of a breast mass.  They describe\n",
            "characteristics of the cell nuclei present in the image.\n",
            "\n",
            "Separating plane described above was obtained using\n",
            "Multisurface Method-Tree (MSM-T) [K. P. Bennett, \"Decision Tree\n",
            "Construction Via Linear Programming.\" Proceedings of the 4th\n",
            "Midwest Artificial Intelligence and Cognitive Science Society,\n",
            "pp. 97-101, 1992], a classification method which uses linear\n",
            "programming to construct a decision tree.  Relevant features\n",
            "were selected using an exhaustive search in the space of 1-4\n",
            "features and 1-3 separating planes.\n",
            "\n",
            "The actual linear program used to obtain the separating plane\n",
            "in the 3-dimensional space is that described in:\n",
            "[K. P. Bennett and O. L. Mangasarian: \"Robust Linear\n",
            "Programming Discrimination of Two Linearly Inseparable Sets\",\n",
            "Optimization Methods and Software 1, 1992, 23-34].\n",
            "\n",
            "This database is also available through the UW CS ftp server:\n",
            "\n",
            "ftp ftp.cs.wisc.edu\n",
            "cd math-prog/cpo-dataset/machine-learn/WDBC/\n",
            "\n",
            ".. topic:: References\n",
            "\n",
            "   - W.N. Street, W.H. Wolberg and O.L. Mangasarian. Nuclear feature extraction \n",
            "     for breast tumor diagnosis. IS&T/SPIE 1993 International Symposium on \n",
            "     Electronic Imaging: Science and Technology, volume 1905, pages 861-870,\n",
            "     San Jose, CA, 1993.\n",
            "   - O.L. Mangasarian, W.N. Street and W.H. Wolberg. Breast cancer diagnosis and \n",
            "     prognosis via linear programming. Operations Research, 43(4), pages 570-577, \n",
            "     July-August 1995.\n",
            "   - W.H. Wolberg, W.N. Street, and O.L. Mangasarian. Machine learning techniques\n",
            "     to diagnose breast cancer from fine-needle aspirates. Cancer Letters 77 (1994) \n",
            "     163-171.\n"
          ],
          "name": "stdout"
        }
      ]
    },
    {
      "cell_type": "code",
      "metadata": {
        "colab": {
          "base_uri": "https://localhost:8080/",
          "height": 249
        },
        "id": "LL-oELeMEPp8",
        "outputId": "591ce0be-7b5c-47e4-b243-a09fed38dc6d"
      },
      "source": [
        "X = pd.DataFrame(data= cancer.data,columns=cancer.feature_names)\n",
        "X.head()"
      ],
      "execution_count": 100,
      "outputs": [
        {
          "output_type": "execute_result",
          "data": {
            "text/html": [
              "<div>\n",
              "<style scoped>\n",
              "    .dataframe tbody tr th:only-of-type {\n",
              "        vertical-align: middle;\n",
              "    }\n",
              "\n",
              "    .dataframe tbody tr th {\n",
              "        vertical-align: top;\n",
              "    }\n",
              "\n",
              "    .dataframe thead th {\n",
              "        text-align: right;\n",
              "    }\n",
              "</style>\n",
              "<table border=\"1\" class=\"dataframe\">\n",
              "  <thead>\n",
              "    <tr style=\"text-align: right;\">\n",
              "      <th></th>\n",
              "      <th>mean radius</th>\n",
              "      <th>mean texture</th>\n",
              "      <th>mean perimeter</th>\n",
              "      <th>mean area</th>\n",
              "      <th>mean smoothness</th>\n",
              "      <th>mean compactness</th>\n",
              "      <th>mean concavity</th>\n",
              "      <th>mean concave points</th>\n",
              "      <th>mean symmetry</th>\n",
              "      <th>mean fractal dimension</th>\n",
              "      <th>radius error</th>\n",
              "      <th>texture error</th>\n",
              "      <th>perimeter error</th>\n",
              "      <th>area error</th>\n",
              "      <th>smoothness error</th>\n",
              "      <th>compactness error</th>\n",
              "      <th>concavity error</th>\n",
              "      <th>concave points error</th>\n",
              "      <th>symmetry error</th>\n",
              "      <th>fractal dimension error</th>\n",
              "      <th>worst radius</th>\n",
              "      <th>worst texture</th>\n",
              "      <th>worst perimeter</th>\n",
              "      <th>worst area</th>\n",
              "      <th>worst smoothness</th>\n",
              "      <th>worst compactness</th>\n",
              "      <th>worst concavity</th>\n",
              "      <th>worst concave points</th>\n",
              "      <th>worst symmetry</th>\n",
              "      <th>worst fractal dimension</th>\n",
              "    </tr>\n",
              "  </thead>\n",
              "  <tbody>\n",
              "    <tr>\n",
              "      <th>0</th>\n",
              "      <td>17.99</td>\n",
              "      <td>10.38</td>\n",
              "      <td>122.80</td>\n",
              "      <td>1001.0</td>\n",
              "      <td>0.11840</td>\n",
              "      <td>0.27760</td>\n",
              "      <td>0.3001</td>\n",
              "      <td>0.14710</td>\n",
              "      <td>0.2419</td>\n",
              "      <td>0.07871</td>\n",
              "      <td>1.0950</td>\n",
              "      <td>0.9053</td>\n",
              "      <td>8.589</td>\n",
              "      <td>153.40</td>\n",
              "      <td>0.006399</td>\n",
              "      <td>0.04904</td>\n",
              "      <td>0.05373</td>\n",
              "      <td>0.01587</td>\n",
              "      <td>0.03003</td>\n",
              "      <td>0.006193</td>\n",
              "      <td>25.38</td>\n",
              "      <td>17.33</td>\n",
              "      <td>184.60</td>\n",
              "      <td>2019.0</td>\n",
              "      <td>0.1622</td>\n",
              "      <td>0.6656</td>\n",
              "      <td>0.7119</td>\n",
              "      <td>0.2654</td>\n",
              "      <td>0.4601</td>\n",
              "      <td>0.11890</td>\n",
              "    </tr>\n",
              "    <tr>\n",
              "      <th>1</th>\n",
              "      <td>20.57</td>\n",
              "      <td>17.77</td>\n",
              "      <td>132.90</td>\n",
              "      <td>1326.0</td>\n",
              "      <td>0.08474</td>\n",
              "      <td>0.07864</td>\n",
              "      <td>0.0869</td>\n",
              "      <td>0.07017</td>\n",
              "      <td>0.1812</td>\n",
              "      <td>0.05667</td>\n",
              "      <td>0.5435</td>\n",
              "      <td>0.7339</td>\n",
              "      <td>3.398</td>\n",
              "      <td>74.08</td>\n",
              "      <td>0.005225</td>\n",
              "      <td>0.01308</td>\n",
              "      <td>0.01860</td>\n",
              "      <td>0.01340</td>\n",
              "      <td>0.01389</td>\n",
              "      <td>0.003532</td>\n",
              "      <td>24.99</td>\n",
              "      <td>23.41</td>\n",
              "      <td>158.80</td>\n",
              "      <td>1956.0</td>\n",
              "      <td>0.1238</td>\n",
              "      <td>0.1866</td>\n",
              "      <td>0.2416</td>\n",
              "      <td>0.1860</td>\n",
              "      <td>0.2750</td>\n",
              "      <td>0.08902</td>\n",
              "    </tr>\n",
              "    <tr>\n",
              "      <th>2</th>\n",
              "      <td>19.69</td>\n",
              "      <td>21.25</td>\n",
              "      <td>130.00</td>\n",
              "      <td>1203.0</td>\n",
              "      <td>0.10960</td>\n",
              "      <td>0.15990</td>\n",
              "      <td>0.1974</td>\n",
              "      <td>0.12790</td>\n",
              "      <td>0.2069</td>\n",
              "      <td>0.05999</td>\n",
              "      <td>0.7456</td>\n",
              "      <td>0.7869</td>\n",
              "      <td>4.585</td>\n",
              "      <td>94.03</td>\n",
              "      <td>0.006150</td>\n",
              "      <td>0.04006</td>\n",
              "      <td>0.03832</td>\n",
              "      <td>0.02058</td>\n",
              "      <td>0.02250</td>\n",
              "      <td>0.004571</td>\n",
              "      <td>23.57</td>\n",
              "      <td>25.53</td>\n",
              "      <td>152.50</td>\n",
              "      <td>1709.0</td>\n",
              "      <td>0.1444</td>\n",
              "      <td>0.4245</td>\n",
              "      <td>0.4504</td>\n",
              "      <td>0.2430</td>\n",
              "      <td>0.3613</td>\n",
              "      <td>0.08758</td>\n",
              "    </tr>\n",
              "    <tr>\n",
              "      <th>3</th>\n",
              "      <td>11.42</td>\n",
              "      <td>20.38</td>\n",
              "      <td>77.58</td>\n",
              "      <td>386.1</td>\n",
              "      <td>0.14250</td>\n",
              "      <td>0.28390</td>\n",
              "      <td>0.2414</td>\n",
              "      <td>0.10520</td>\n",
              "      <td>0.2597</td>\n",
              "      <td>0.09744</td>\n",
              "      <td>0.4956</td>\n",
              "      <td>1.1560</td>\n",
              "      <td>3.445</td>\n",
              "      <td>27.23</td>\n",
              "      <td>0.009110</td>\n",
              "      <td>0.07458</td>\n",
              "      <td>0.05661</td>\n",
              "      <td>0.01867</td>\n",
              "      <td>0.05963</td>\n",
              "      <td>0.009208</td>\n",
              "      <td>14.91</td>\n",
              "      <td>26.50</td>\n",
              "      <td>98.87</td>\n",
              "      <td>567.7</td>\n",
              "      <td>0.2098</td>\n",
              "      <td>0.8663</td>\n",
              "      <td>0.6869</td>\n",
              "      <td>0.2575</td>\n",
              "      <td>0.6638</td>\n",
              "      <td>0.17300</td>\n",
              "    </tr>\n",
              "    <tr>\n",
              "      <th>4</th>\n",
              "      <td>20.29</td>\n",
              "      <td>14.34</td>\n",
              "      <td>135.10</td>\n",
              "      <td>1297.0</td>\n",
              "      <td>0.10030</td>\n",
              "      <td>0.13280</td>\n",
              "      <td>0.1980</td>\n",
              "      <td>0.10430</td>\n",
              "      <td>0.1809</td>\n",
              "      <td>0.05883</td>\n",
              "      <td>0.7572</td>\n",
              "      <td>0.7813</td>\n",
              "      <td>5.438</td>\n",
              "      <td>94.44</td>\n",
              "      <td>0.011490</td>\n",
              "      <td>0.02461</td>\n",
              "      <td>0.05688</td>\n",
              "      <td>0.01885</td>\n",
              "      <td>0.01756</td>\n",
              "      <td>0.005115</td>\n",
              "      <td>22.54</td>\n",
              "      <td>16.67</td>\n",
              "      <td>152.20</td>\n",
              "      <td>1575.0</td>\n",
              "      <td>0.1374</td>\n",
              "      <td>0.2050</td>\n",
              "      <td>0.4000</td>\n",
              "      <td>0.1625</td>\n",
              "      <td>0.2364</td>\n",
              "      <td>0.07678</td>\n",
              "    </tr>\n",
              "  </tbody>\n",
              "</table>\n",
              "</div>"
            ],
            "text/plain": [
              "   mean radius  mean texture  ...  worst symmetry  worst fractal dimension\n",
              "0        17.99         10.38  ...          0.4601                  0.11890\n",
              "1        20.57         17.77  ...          0.2750                  0.08902\n",
              "2        19.69         21.25  ...          0.3613                  0.08758\n",
              "3        11.42         20.38  ...          0.6638                  0.17300\n",
              "4        20.29         14.34  ...          0.2364                  0.07678\n",
              "\n",
              "[5 rows x 30 columns]"
            ]
          },
          "metadata": {
            "tags": []
          },
          "execution_count": 100
        }
      ]
    },
    {
      "cell_type": "code",
      "metadata": {
        "id": "zpnmLaMHEvo_"
      },
      "source": [
        "y = cancer.target"
      ],
      "execution_count": 101,
      "outputs": []
    },
    {
      "cell_type": "code",
      "metadata": {
        "colab": {
          "base_uri": "https://localhost:8080/"
        },
        "id": "5eaQy2J7E2vZ",
        "outputId": "42dc7cf7-eedc-43a7-f4ad-29b4307e14bc"
      },
      "source": [
        "y"
      ],
      "execution_count": 102,
      "outputs": [
        {
          "output_type": "execute_result",
          "data": {
            "text/plain": [
              "array([0, 0, 0, 0, 0, 0, 0, 0, 0, 0, 0, 0, 0, 0, 0, 0, 0, 0, 0, 1, 1, 1,\n",
              "       0, 0, 0, 0, 0, 0, 0, 0, 0, 0, 0, 0, 0, 0, 0, 1, 0, 0, 0, 0, 0, 0,\n",
              "       0, 0, 1, 0, 1, 1, 1, 1, 1, 0, 0, 1, 0, 0, 1, 1, 1, 1, 0, 1, 0, 0,\n",
              "       1, 1, 1, 1, 0, 1, 0, 0, 1, 0, 1, 0, 0, 1, 1, 1, 0, 0, 1, 0, 0, 0,\n",
              "       1, 1, 1, 0, 1, 1, 0, 0, 1, 1, 1, 0, 0, 1, 1, 1, 1, 0, 1, 1, 0, 1,\n",
              "       1, 1, 1, 1, 1, 1, 1, 0, 0, 0, 1, 0, 0, 1, 1, 1, 0, 0, 1, 0, 1, 0,\n",
              "       0, 1, 0, 0, 1, 1, 0, 1, 1, 0, 1, 1, 1, 1, 0, 1, 1, 1, 1, 1, 1, 1,\n",
              "       1, 1, 0, 1, 1, 1, 1, 0, 0, 1, 0, 1, 1, 0, 0, 1, 1, 0, 0, 1, 1, 1,\n",
              "       1, 0, 1, 1, 0, 0, 0, 1, 0, 1, 0, 1, 1, 1, 0, 1, 1, 0, 0, 1, 0, 0,\n",
              "       0, 0, 1, 0, 0, 0, 1, 0, 1, 0, 1, 1, 0, 1, 0, 0, 0, 0, 1, 1, 0, 0,\n",
              "       1, 1, 1, 0, 1, 1, 1, 1, 1, 0, 0, 1, 1, 0, 1, 1, 0, 0, 1, 0, 1, 1,\n",
              "       1, 1, 0, 1, 1, 1, 1, 1, 0, 1, 0, 0, 0, 0, 0, 0, 0, 0, 0, 0, 0, 0,\n",
              "       0, 0, 1, 1, 1, 1, 1, 1, 0, 1, 0, 1, 1, 0, 1, 1, 0, 1, 0, 0, 1, 1,\n",
              "       1, 1, 1, 1, 1, 1, 1, 1, 1, 1, 1, 0, 1, 1, 0, 1, 0, 1, 1, 1, 1, 1,\n",
              "       1, 1, 1, 1, 1, 1, 1, 1, 1, 0, 1, 1, 1, 0, 1, 0, 1, 1, 1, 1, 0, 0,\n",
              "       0, 1, 1, 1, 1, 0, 1, 0, 1, 0, 1, 1, 1, 0, 1, 1, 1, 1, 1, 1, 1, 0,\n",
              "       0, 0, 1, 1, 1, 1, 1, 1, 1, 1, 1, 1, 1, 0, 0, 1, 0, 0, 0, 1, 0, 0,\n",
              "       1, 1, 1, 1, 1, 0, 1, 1, 1, 1, 1, 0, 1, 1, 1, 0, 1, 1, 0, 0, 1, 1,\n",
              "       1, 1, 1, 1, 0, 1, 1, 1, 1, 1, 1, 1, 0, 1, 1, 1, 1, 1, 0, 1, 1, 0,\n",
              "       1, 1, 1, 1, 1, 1, 1, 1, 1, 1, 1, 1, 0, 1, 0, 0, 1, 0, 1, 1, 1, 1,\n",
              "       1, 0, 1, 1, 0, 1, 0, 1, 1, 0, 1, 0, 1, 1, 1, 1, 1, 1, 1, 1, 0, 0,\n",
              "       1, 1, 1, 1, 1, 1, 0, 1, 1, 1, 1, 1, 1, 1, 1, 1, 1, 0, 1, 1, 1, 1,\n",
              "       1, 1, 1, 0, 1, 0, 1, 1, 0, 1, 1, 1, 1, 1, 0, 0, 1, 0, 1, 0, 1, 1,\n",
              "       1, 1, 1, 0, 1, 1, 0, 1, 0, 1, 0, 0, 1, 1, 1, 0, 1, 1, 1, 1, 1, 1,\n",
              "       1, 1, 1, 1, 1, 0, 1, 0, 0, 1, 1, 1, 1, 1, 1, 1, 1, 1, 1, 1, 1, 1,\n",
              "       1, 1, 1, 1, 1, 1, 1, 1, 1, 1, 1, 1, 0, 0, 0, 0, 0, 0, 1])"
            ]
          },
          "metadata": {
            "tags": []
          },
          "execution_count": 102
        }
      ]
    },
    {
      "cell_type": "code",
      "metadata": {
        "colab": {
          "base_uri": "https://localhost:8080/"
        },
        "id": "d0ln0admE3Bl",
        "outputId": "cb2f8c46-b97e-4a04-fb7c-064dc85c0095"
      },
      "source": [
        "cancer.target_names"
      ],
      "execution_count": 103,
      "outputs": [
        {
          "output_type": "execute_result",
          "data": {
            "text/plain": [
              "array(['malignant', 'benign'], dtype='<U9')"
            ]
          },
          "metadata": {
            "tags": []
          },
          "execution_count": 103
        }
      ]
    },
    {
      "cell_type": "code",
      "metadata": {
        "colab": {
          "base_uri": "https://localhost:8080/"
        },
        "id": "FsyHIqi7E9Zl",
        "outputId": "48114b10-d4c2-4656-ee45-771c855f8667"
      },
      "source": [
        "X.shape"
      ],
      "execution_count": 104,
      "outputs": [
        {
          "output_type": "execute_result",
          "data": {
            "text/plain": [
              "(569, 30)"
            ]
          },
          "metadata": {
            "tags": []
          },
          "execution_count": 104
        }
      ]
    },
    {
      "cell_type": "code",
      "metadata": {
        "id": "Oua1FLIXFCWx"
      },
      "source": [
        "X_train, X_test, y_train, y_test = train_test_split(X, y, test_size=0.2, random_state=0)"
      ],
      "execution_count": 105,
      "outputs": []
    },
    {
      "cell_type": "code",
      "metadata": {
        "colab": {
          "base_uri": "https://localhost:8080/"
        },
        "id": "SyQyt1gDFW2U",
        "outputId": "8455645e-c764-4941-c9d7-5bfe9244088d"
      },
      "source": [
        "X_train.shape"
      ],
      "execution_count": 106,
      "outputs": [
        {
          "output_type": "execute_result",
          "data": {
            "text/plain": [
              "(455, 30)"
            ]
          },
          "metadata": {
            "tags": []
          },
          "execution_count": 106
        }
      ]
    },
    {
      "cell_type": "code",
      "metadata": {
        "colab": {
          "base_uri": "https://localhost:8080/"
        },
        "id": "xbRQGRp-FYi7",
        "outputId": "ae21378a-fa12-49cc-e992-26782eb0808c"
      },
      "source": [
        "X_test.shape"
      ],
      "execution_count": 107,
      "outputs": [
        {
          "output_type": "execute_result",
          "data": {
            "text/plain": [
              "(114, 30)"
            ]
          },
          "metadata": {
            "tags": []
          },
          "execution_count": 107
        }
      ]
    },
    {
      "cell_type": "code",
      "metadata": {
        "id": "9vQVrohLFcEX"
      },
      "source": [
        "scaler = StandardScaler()\n",
        "X_train = scaler.fit_transform(X_train)\n",
        "X_test = scaler.transform(X_test)"
      ],
      "execution_count": 108,
      "outputs": []
    },
    {
      "cell_type": "code",
      "metadata": {
        "id": "edFJUT0aF-EJ"
      },
      "source": [
        "X_train = X_train.reshape(455,30,1)\n",
        "X_test = X_test.reshape(114,30,1)"
      ],
      "execution_count": 109,
      "outputs": []
    },
    {
      "cell_type": "code",
      "metadata": {
        "id": "72p6dDFyGLY-"
      },
      "source": [
        "epochs= 50\n",
        "model = Sequential()\n",
        "model.add(Conv1D(filters=32,kernel_size=2, activation='relu',input_shape=(30,1)))\n",
        "model.add(BatchNormalization())\n",
        "model.add(Dropout(0.2))\n",
        "\n",
        "model.add(Conv1D(filters=64,kernel_size=2, activation='relu'))\n",
        "model.add(BatchNormalization())\n",
        "model.add(Dropout(0.5))\n",
        "\n",
        "model.add(Flatten())\n",
        "model.add(Dense(64,activation='relu'))\n",
        "model.add(Dropout(0.5))\n",
        "\n",
        "model.add(Dense(1,activation='sigmoid'))\n"
      ],
      "execution_count": 110,
      "outputs": []
    },
    {
      "cell_type": "code",
      "metadata": {
        "colab": {
          "base_uri": "https://localhost:8080/"
        },
        "id": "cNOZOXAFHB36",
        "outputId": "5a901744-cf5b-427c-ecf0-4842cbdb35c3"
      },
      "source": [
        "model.summary()"
      ],
      "execution_count": 111,
      "outputs": [
        {
          "output_type": "stream",
          "text": [
            "Model: \"sequential_8\"\n",
            "_________________________________________________________________\n",
            "Layer (type)                 Output Shape              Param #   \n",
            "=================================================================\n",
            "conv1d_9 (Conv1D)            (None, 29, 32)            96        \n",
            "_________________________________________________________________\n",
            "batch_normalization_9 (Batch (None, 29, 32)            128       \n",
            "_________________________________________________________________\n",
            "dropout_13 (Dropout)         (None, 29, 32)            0         \n",
            "_________________________________________________________________\n",
            "conv1d_10 (Conv1D)           (None, 28, 64)            4160      \n",
            "_________________________________________________________________\n",
            "batch_normalization_10 (Batc (None, 28, 64)            256       \n",
            "_________________________________________________________________\n",
            "dropout_14 (Dropout)         (None, 28, 64)            0         \n",
            "_________________________________________________________________\n",
            "flatten_4 (Flatten)          (None, 1792)              0         \n",
            "_________________________________________________________________\n",
            "dense_8 (Dense)              (None, 64)                114752    \n",
            "_________________________________________________________________\n",
            "dropout_15 (Dropout)         (None, 64)                0         \n",
            "_________________________________________________________________\n",
            "dense_9 (Dense)              (None, 1)                 65        \n",
            "=================================================================\n",
            "Total params: 119,457\n",
            "Trainable params: 119,265\n",
            "Non-trainable params: 192\n",
            "_________________________________________________________________\n"
          ],
          "name": "stdout"
        }
      ]
    },
    {
      "cell_type": "code",
      "metadata": {
        "id": "IIaOMNooIGIU"
      },
      "source": [
        "model.compile(\n",
        "    optimizer='adam',\n",
        "    loss='binary_crossentropy',\n",
        "    metrics=['accuracy']\n",
        ")"
      ],
      "execution_count": 112,
      "outputs": []
    },
    {
      "cell_type": "code",
      "metadata": {
        "colab": {
          "base_uri": "https://localhost:8080/"
        },
        "id": "Ev3sjrNmJJ_x",
        "outputId": "f45c0a6e-28e3-41b0-ff6a-dc3b4b14ca71"
      },
      "source": [
        "r = model.fit(X_train, y_train, validation_data=(X_test, y_test), epochs=50)"
      ],
      "execution_count": 113,
      "outputs": [
        {
          "output_type": "stream",
          "text": [
            "Epoch 1/50\n",
            "15/15 [==============================] - 1s 29ms/step - loss: 0.6388 - accuracy: 0.7493 - val_loss: 0.3882 - val_accuracy: 0.9298\n",
            "Epoch 2/50\n",
            "15/15 [==============================] - 0s 12ms/step - loss: 0.1825 - accuracy: 0.9329 - val_loss: 0.3274 - val_accuracy: 0.9386\n",
            "Epoch 3/50\n",
            "15/15 [==============================] - 0s 11ms/step - loss: 0.0866 - accuracy: 0.9633 - val_loss: 0.2975 - val_accuracy: 0.9298\n",
            "Epoch 4/50\n",
            "15/15 [==============================] - 0s 11ms/step - loss: 0.0852 - accuracy: 0.9695 - val_loss: 0.2916 - val_accuracy: 0.9474\n",
            "Epoch 5/50\n",
            "15/15 [==============================] - 0s 13ms/step - loss: 0.1148 - accuracy: 0.9505 - val_loss: 0.2991 - val_accuracy: 0.9474\n",
            "Epoch 6/50\n",
            "15/15 [==============================] - 0s 12ms/step - loss: 0.1049 - accuracy: 0.9548 - val_loss: 0.2789 - val_accuracy: 0.9474\n",
            "Epoch 7/50\n",
            "15/15 [==============================] - 0s 12ms/step - loss: 0.0759 - accuracy: 0.9657 - val_loss: 0.2579 - val_accuracy: 0.9474\n",
            "Epoch 8/50\n",
            "15/15 [==============================] - 0s 11ms/step - loss: 0.0611 - accuracy: 0.9787 - val_loss: 0.2312 - val_accuracy: 0.9649\n",
            "Epoch 9/50\n",
            "15/15 [==============================] - 0s 13ms/step - loss: 0.0587 - accuracy: 0.9692 - val_loss: 0.2122 - val_accuracy: 0.9737\n",
            "Epoch 10/50\n",
            "15/15 [==============================] - 0s 13ms/step - loss: 0.0603 - accuracy: 0.9796 - val_loss: 0.2026 - val_accuracy: 0.9649\n",
            "Epoch 11/50\n",
            "15/15 [==============================] - 0s 13ms/step - loss: 0.0706 - accuracy: 0.9707 - val_loss: 0.2270 - val_accuracy: 0.9737\n",
            "Epoch 12/50\n",
            "15/15 [==============================] - 0s 12ms/step - loss: 0.0701 - accuracy: 0.9730 - val_loss: 0.2224 - val_accuracy: 0.9737\n",
            "Epoch 13/50\n",
            "15/15 [==============================] - 0s 12ms/step - loss: 0.0949 - accuracy: 0.9635 - val_loss: 0.2020 - val_accuracy: 0.9737\n",
            "Epoch 14/50\n",
            "15/15 [==============================] - 0s 12ms/step - loss: 0.0365 - accuracy: 0.9868 - val_loss: 0.1800 - val_accuracy: 0.9737\n",
            "Epoch 15/50\n",
            "15/15 [==============================] - 0s 11ms/step - loss: 0.0530 - accuracy: 0.9724 - val_loss: 0.1618 - val_accuracy: 0.9737\n",
            "Epoch 16/50\n",
            "15/15 [==============================] - 0s 13ms/step - loss: 0.0364 - accuracy: 0.9868 - val_loss: 0.1498 - val_accuracy: 0.9649\n",
            "Epoch 17/50\n",
            "15/15 [==============================] - 0s 11ms/step - loss: 0.0777 - accuracy: 0.9755 - val_loss: 0.1823 - val_accuracy: 0.9649\n",
            "Epoch 18/50\n",
            "15/15 [==============================] - 0s 12ms/step - loss: 0.0734 - accuracy: 0.9682 - val_loss: 0.1751 - val_accuracy: 0.9649\n",
            "Epoch 19/50\n",
            "15/15 [==============================] - 0s 12ms/step - loss: 0.0335 - accuracy: 0.9925 - val_loss: 0.1846 - val_accuracy: 0.9561\n",
            "Epoch 20/50\n",
            "15/15 [==============================] - 0s 12ms/step - loss: 0.0461 - accuracy: 0.9832 - val_loss: 0.2013 - val_accuracy: 0.9561\n",
            "Epoch 21/50\n",
            "15/15 [==============================] - 0s 11ms/step - loss: 0.0400 - accuracy: 0.9836 - val_loss: 0.1903 - val_accuracy: 0.9649\n",
            "Epoch 22/50\n",
            "15/15 [==============================] - 0s 12ms/step - loss: 0.0677 - accuracy: 0.9810 - val_loss: 0.1990 - val_accuracy: 0.9737\n",
            "Epoch 23/50\n",
            "15/15 [==============================] - 0s 12ms/step - loss: 0.0547 - accuracy: 0.9829 - val_loss: 0.1825 - val_accuracy: 0.9825\n",
            "Epoch 24/50\n",
            "15/15 [==============================] - 0s 11ms/step - loss: 0.0414 - accuracy: 0.9862 - val_loss: 0.1855 - val_accuracy: 0.9825\n",
            "Epoch 25/50\n",
            "15/15 [==============================] - 0s 12ms/step - loss: 0.0200 - accuracy: 0.9892 - val_loss: 0.1788 - val_accuracy: 0.9825\n",
            "Epoch 26/50\n",
            "15/15 [==============================] - 0s 11ms/step - loss: 0.0442 - accuracy: 0.9811 - val_loss: 0.1611 - val_accuracy: 0.9737\n",
            "Epoch 27/50\n",
            "15/15 [==============================] - 0s 12ms/step - loss: 0.0443 - accuracy: 0.9783 - val_loss: 0.1964 - val_accuracy: 0.9649\n",
            "Epoch 28/50\n",
            "15/15 [==============================] - 0s 13ms/step - loss: 0.0734 - accuracy: 0.9708 - val_loss: 0.2084 - val_accuracy: 0.9737\n",
            "Epoch 29/50\n",
            "15/15 [==============================] - 0s 12ms/step - loss: 0.0430 - accuracy: 0.9820 - val_loss: 0.2069 - val_accuracy: 0.9737\n",
            "Epoch 30/50\n",
            "15/15 [==============================] - 0s 12ms/step - loss: 0.0506 - accuracy: 0.9844 - val_loss: 0.1926 - val_accuracy: 0.9737\n",
            "Epoch 31/50\n",
            "15/15 [==============================] - 0s 11ms/step - loss: 0.0446 - accuracy: 0.9757 - val_loss: 0.1744 - val_accuracy: 0.9825\n",
            "Epoch 32/50\n",
            "15/15 [==============================] - 0s 12ms/step - loss: 0.0341 - accuracy: 0.9833 - val_loss: 0.1559 - val_accuracy: 0.9825\n",
            "Epoch 33/50\n",
            "15/15 [==============================] - 0s 12ms/step - loss: 0.0295 - accuracy: 0.9942 - val_loss: 0.1558 - val_accuracy: 0.9737\n",
            "Epoch 34/50\n",
            "15/15 [==============================] - 0s 11ms/step - loss: 0.0340 - accuracy: 0.9808 - val_loss: 0.1834 - val_accuracy: 0.9737\n",
            "Epoch 35/50\n",
            "15/15 [==============================] - 0s 12ms/step - loss: 0.0399 - accuracy: 0.9838 - val_loss: 0.1963 - val_accuracy: 0.9825\n",
            "Epoch 36/50\n",
            "15/15 [==============================] - 0s 12ms/step - loss: 0.0211 - accuracy: 0.9875 - val_loss: 0.1935 - val_accuracy: 0.9737\n",
            "Epoch 37/50\n",
            "15/15 [==============================] - 0s 12ms/step - loss: 0.0474 - accuracy: 0.9881 - val_loss: 0.2212 - val_accuracy: 0.9737\n",
            "Epoch 38/50\n",
            "15/15 [==============================] - 0s 13ms/step - loss: 0.0437 - accuracy: 0.9823 - val_loss: 0.2468 - val_accuracy: 0.9737\n",
            "Epoch 39/50\n",
            "15/15 [==============================] - 0s 12ms/step - loss: 0.0244 - accuracy: 0.9893 - val_loss: 0.2627 - val_accuracy: 0.9825\n",
            "Epoch 40/50\n",
            "15/15 [==============================] - 0s 13ms/step - loss: 0.0291 - accuracy: 0.9919 - val_loss: 0.2749 - val_accuracy: 0.9561\n",
            "Epoch 41/50\n",
            "15/15 [==============================] - 0s 12ms/step - loss: 0.1037 - accuracy: 0.9696 - val_loss: 0.2224 - val_accuracy: 0.9649\n",
            "Epoch 42/50\n",
            "15/15 [==============================] - 0s 13ms/step - loss: 0.0435 - accuracy: 0.9802 - val_loss: 0.2204 - val_accuracy: 0.9649\n",
            "Epoch 43/50\n",
            "15/15 [==============================] - 0s 12ms/step - loss: 0.0496 - accuracy: 0.9803 - val_loss: 0.2114 - val_accuracy: 0.9561\n",
            "Epoch 44/50\n",
            "15/15 [==============================] - 0s 12ms/step - loss: 0.0352 - accuracy: 0.9893 - val_loss: 0.1625 - val_accuracy: 0.9561\n",
            "Epoch 45/50\n",
            "15/15 [==============================] - 0s 13ms/step - loss: 0.0487 - accuracy: 0.9927 - val_loss: 0.2151 - val_accuracy: 0.9474\n",
            "Epoch 46/50\n",
            "15/15 [==============================] - 0s 12ms/step - loss: 0.0628 - accuracy: 0.9773 - val_loss: 0.2309 - val_accuracy: 0.9737\n",
            "Epoch 47/50\n",
            "15/15 [==============================] - 0s 11ms/step - loss: 0.0260 - accuracy: 0.9900 - val_loss: 0.2414 - val_accuracy: 0.9649\n",
            "Epoch 48/50\n",
            "15/15 [==============================] - 0s 13ms/step - loss: 0.0271 - accuracy: 0.9866 - val_loss: 0.2428 - val_accuracy: 0.9737\n",
            "Epoch 49/50\n",
            "15/15 [==============================] - 0s 13ms/step - loss: 0.0620 - accuracy: 0.9757 - val_loss: 0.2377 - val_accuracy: 0.9649\n",
            "Epoch 50/50\n",
            "15/15 [==============================] - 0s 12ms/step - loss: 0.0279 - accuracy: 0.9870 - val_loss: 0.2454 - val_accuracy: 0.9737\n"
          ],
          "name": "stdout"
        }
      ]
    },
    {
      "cell_type": "code",
      "metadata": {
        "id": "l0LXk3WvJYDF"
      },
      "source": [
        "def plot_learningCurve(history,epoch):\n",
        "  #Plot training & Validation accuracy values\n",
        "\n",
        "  epoch_range = range(1, epoch+1)\n",
        "  plt.plot(epoch_range,r.history['accuracy'])\n",
        "  plt.plot(epoch_range,r.history['val_accuracy'])\n",
        "  plt.title('Model accuracy')\n",
        "  plt.ylabel('Accuracy')\n",
        "  plt.xlabel('Epoch')\n",
        "  plt.legend(['Train','val'],loc='upper left')\n",
        "  plt.show()\n",
        "\n",
        "  #Plot training & Validation loss values\n",
        "\n",
        "  plt.plot(epoch_range,r.history['loss'])\n",
        "  plt.plot(epoch_range,r.history['val_loss'])\n",
        "  plt.title('Model loss')\n",
        "  plt.ylabel('loss')\n",
        "  plt.xlabel('Epoch')\n",
        "  plt.legend(['Train','Val'],loc='upper left')\n",
        "  plt.show()"
      ],
      "execution_count": 114,
      "outputs": []
    },
    {
      "cell_type": "code",
      "metadata": {
        "colab": {
          "base_uri": "https://localhost:8080/"
        },
        "id": "1m2nmXVNRwfJ",
        "outputId": "9e60ec21-d78b-4fb0-e193-bbe37a1fb019"
      },
      "source": [
        "r.history"
      ],
      "execution_count": 115,
      "outputs": [
        {
          "output_type": "execute_result",
          "data": {
            "text/plain": [
              "{'accuracy': [0.8615384697914124,\n",
              "  0.9362637400627136,\n",
              "  0.9604395627975464,\n",
              "  0.9670329689979553,\n",
              "  0.9648351669311523,\n",
              "  0.9560439586639404,\n",
              "  0.9692307710647583,\n",
              "  0.9714285731315613,\n",
              "  0.9736263751983643,\n",
              "  0.9780219793319702,\n",
              "  0.9626373648643494,\n",
              "  0.9802197813987732,\n",
              "  0.9692307710647583,\n",
              "  0.9824175834655762,\n",
              "  0.9758241772651672,\n",
              "  0.9824175834655762,\n",
              "  0.9780219793319702,\n",
              "  0.9758241772651672,\n",
              "  0.9846153855323792,\n",
              "  0.9824175834655762,\n",
              "  0.9824175834655762,\n",
              "  0.9824175834655762,\n",
              "  0.9824175834655762,\n",
              "  0.9846153855323792,\n",
              "  0.9890109896659851,\n",
              "  0.9758241772651672,\n",
              "  0.9824175834655762,\n",
              "  0.9780219793319702,\n",
              "  0.9824175834655762,\n",
              "  0.9802197813987732,\n",
              "  0.9846153855323792,\n",
              "  0.9824175834655762,\n",
              "  0.9912087917327881,\n",
              "  0.9780219793319702,\n",
              "  0.9890109896659851,\n",
              "  0.9890109896659851,\n",
              "  0.9846153855323792,\n",
              "  0.9780219793319702,\n",
              "  0.9868131875991821,\n",
              "  0.9934065937995911,\n",
              "  0.9802197813987732,\n",
              "  0.9846153855323792,\n",
              "  0.9846153855323792,\n",
              "  0.9780219793319702,\n",
              "  0.9868131875991821,\n",
              "  0.9824175834655762,\n",
              "  0.9890109896659851,\n",
              "  0.9868131875991821,\n",
              "  0.9824175834655762,\n",
              "  0.9802197813987732],\n",
              " 'loss': [0.3542517125606537,\n",
              "  0.17182490229606628,\n",
              "  0.09826105833053589,\n",
              "  0.10782984644174576,\n",
              "  0.08428730070590973,\n",
              "  0.09179619699716568,\n",
              "  0.06507836282253265,\n",
              "  0.07342110574245453,\n",
              "  0.0649978518486023,\n",
              "  0.07603728771209717,\n",
              "  0.08966746181249619,\n",
              "  0.0658799558877945,\n",
              "  0.0919169932603836,\n",
              "  0.038673561066389084,\n",
              "  0.04319492727518082,\n",
              "  0.050286974757909775,\n",
              "  0.061137810349464417,\n",
              "  0.05872160568833351,\n",
              "  0.06605395674705505,\n",
              "  0.04659509286284447,\n",
              "  0.042806655168533325,\n",
              "  0.04869638383388519,\n",
              "  0.05831174924969673,\n",
              "  0.03296978771686554,\n",
              "  0.023630239069461823,\n",
              "  0.07467702776193619,\n",
              "  0.03891893848776817,\n",
              "  0.05591417849063873,\n",
              "  0.04926778003573418,\n",
              "  0.061034414917230606,\n",
              "  0.03346474468708038,\n",
              "  0.033922336995601654,\n",
              "  0.03656874597072601,\n",
              "  0.043965503573417664,\n",
              "  0.028881534934043884,\n",
              "  0.020334742963314056,\n",
              "  0.05268073081970215,\n",
              "  0.05725620687007904,\n",
              "  0.03713783994317055,\n",
              "  0.02611677534878254,\n",
              "  0.07344146072864532,\n",
              "  0.03979553282260895,\n",
              "  0.03905360773205757,\n",
              "  0.06392514705657959,\n",
              "  0.1018902063369751,\n",
              "  0.05113312974572182,\n",
              "  0.035112958401441574,\n",
              "  0.030620278790593147,\n",
              "  0.043466515839099884,\n",
              "  0.03972135856747627],\n",
              " 'val_accuracy': [0.9298245906829834,\n",
              "  0.9385964870452881,\n",
              "  0.9298245906829834,\n",
              "  0.9473684430122375,\n",
              "  0.9473684430122375,\n",
              "  0.9473684430122375,\n",
              "  0.9473684430122375,\n",
              "  0.9649122953414917,\n",
              "  0.9736841917037964,\n",
              "  0.9649122953414917,\n",
              "  0.9736841917037964,\n",
              "  0.9736841917037964,\n",
              "  0.9736841917037964,\n",
              "  0.9736841917037964,\n",
              "  0.9736841917037964,\n",
              "  0.9649122953414917,\n",
              "  0.9649122953414917,\n",
              "  0.9649122953414917,\n",
              "  0.9561403393745422,\n",
              "  0.9561403393745422,\n",
              "  0.9649122953414917,\n",
              "  0.9736841917037964,\n",
              "  0.9824561476707458,\n",
              "  0.9824561476707458,\n",
              "  0.9824561476707458,\n",
              "  0.9736841917037964,\n",
              "  0.9649122953414917,\n",
              "  0.9736841917037964,\n",
              "  0.9736841917037964,\n",
              "  0.9736841917037964,\n",
              "  0.9824561476707458,\n",
              "  0.9824561476707458,\n",
              "  0.9736841917037964,\n",
              "  0.9736841917037964,\n",
              "  0.9824561476707458,\n",
              "  0.9736841917037964,\n",
              "  0.9736841917037964,\n",
              "  0.9736841917037964,\n",
              "  0.9824561476707458,\n",
              "  0.9561403393745422,\n",
              "  0.9649122953414917,\n",
              "  0.9649122953414917,\n",
              "  0.9561403393745422,\n",
              "  0.9561403393745422,\n",
              "  0.9473684430122375,\n",
              "  0.9736841917037964,\n",
              "  0.9649122953414917,\n",
              "  0.9736841917037964,\n",
              "  0.9649122953414917,\n",
              "  0.9736841917037964],\n",
              " 'val_loss': [0.3881949484348297,\n",
              "  0.3274238407611847,\n",
              "  0.29751089215278625,\n",
              "  0.29155784845352173,\n",
              "  0.2991383969783783,\n",
              "  0.2788749039173126,\n",
              "  0.25786271691322327,\n",
              "  0.23120130598545074,\n",
              "  0.21224182844161987,\n",
              "  0.2025531679391861,\n",
              "  0.22704710066318512,\n",
              "  0.2224382907152176,\n",
              "  0.20203372836112976,\n",
              "  0.17999367415905,\n",
              "  0.16178707778453827,\n",
              "  0.14977368712425232,\n",
              "  0.18229568004608154,\n",
              "  0.17513689398765564,\n",
              "  0.18460869789123535,\n",
              "  0.20133660733699799,\n",
              "  0.19027848541736603,\n",
              "  0.19902841746807098,\n",
              "  0.18246829509735107,\n",
              "  0.1854885220527649,\n",
              "  0.178818017244339,\n",
              "  0.16108563542366028,\n",
              "  0.19642029702663422,\n",
              "  0.20842769742012024,\n",
              "  0.20689287781715393,\n",
              "  0.19259417057037354,\n",
              "  0.1744280457496643,\n",
              "  0.15592166781425476,\n",
              "  0.1558448076248169,\n",
              "  0.18342192471027374,\n",
              "  0.1963045597076416,\n",
              "  0.19349123537540436,\n",
              "  0.22124366462230682,\n",
              "  0.24681854248046875,\n",
              "  0.26269829273223877,\n",
              "  0.2749015986919403,\n",
              "  0.222416490316391,\n",
              "  0.22042368352413177,\n",
              "  0.2114230990409851,\n",
              "  0.1624998152256012,\n",
              "  0.21513119339942932,\n",
              "  0.23086538910865784,\n",
              "  0.24136361479759216,\n",
              "  0.24280273914337158,\n",
              "  0.23770546913146973,\n",
              "  0.24535058438777924]}"
            ]
          },
          "metadata": {
            "tags": []
          },
          "execution_count": 115
        }
      ]
    },
    {
      "cell_type": "code",
      "metadata": {
        "colab": {
          "base_uri": "https://localhost:8080/",
          "height": 573
        },
        "id": "ktk6cor4SAeY",
        "outputId": "6c0bb7aa-32f7-495e-8712-56ab8d05a091"
      },
      "source": [
        "plot_learningCurve(r,epochs)"
      ],
      "execution_count": 116,
      "outputs": [
        {
          "output_type": "display_data",
          "data": {
            "image/png": "[encoded data removed]",
            "text/plain": [
              "<Figure size 432x288 with 1 Axes>"
            ]
          },
          "metadata": {
            "tags": [],
            "needs_background": "light"
          }
        },
        {
          "output_type": "display_data",
          "data": {
            "image/png": "[encoded data removed]",
            "text/plain": [
              "<Figure size 432x288 with 1 Axes>"
            ]
          },
          "metadata": {
            "tags": [],
            "needs_background": "light"
          }
        }
      ]
    },
    {
      "cell_type": "code",
      "metadata": {
        "colab": {
          "base_uri": "https://localhost:8080/"
        },
        "id": "-BFy1X7gSRZo",
        "outputId": "4141f330-d615-4d4b-c399-b3be452ec59b"
      },
      "source": [
        "# Predictions\n",
        "\n",
        "y_pred = model.predict(X_test)\n",
        "print(y_pred)"
      ],
      "execution_count": 119,
      "outputs": [
        {
          "output_type": "stream",
          "text": [
            "[[2.2411114e-05]\n",
            " [8.8629818e-01]\n",
            " [9.9993235e-01]\n",
            " [9.9973750e-01]\n",
            " [9.9992913e-01]\n",
            " [9.9999475e-01]\n",
            " [1.0000000e+00]\n",
            " [9.9999690e-01]\n",
            " [1.0000000e+00]\n",
            " [1.0000000e+00]\n",
            " [9.9917507e-01]\n",
            " [9.9214530e-01]\n",
            " [1.0000000e+00]\n",
            " [4.6777040e-02]\n",
            " [6.1961770e-01]\n",
            " [2.0509064e-03]\n",
            " [1.0000000e+00]\n",
            " [4.9578085e-11]\n",
            " [1.0890622e-09]\n",
            " [1.6844506e-21]\n",
            " [3.1654206e-05]\n",
            " [5.0268100e-05]\n",
            " [9.9997175e-01]\n",
            " [9.9996096e-01]\n",
            " [3.5259178e-05]\n",
            " [9.9999893e-01]\n",
            " [1.0000000e+00]\n",
            " [1.1205673e-03]\n",
            " [9.9987864e-01]\n",
            " [3.2028706e-11]\n",
            " [9.9999899e-01]\n",
            " [2.0376098e-10]\n",
            " [9.7731614e-01]\n",
            " [9.7121274e-06]\n",
            " [1.0000000e+00]\n",
            " [4.1813248e-05]\n",
            " [9.8683542e-01]\n",
            " [1.3770299e-08]\n",
            " [9.9905121e-01]\n",
            " [1.5780330e-04]\n",
            " [1.1847615e-02]\n",
            " [1.0000000e+00]\n",
            " [7.2470784e-02]\n",
            " [1.0000000e+00]\n",
            " [9.9990731e-01]\n",
            " [1.4265016e-22]\n",
            " [1.0000000e+00]\n",
            " [9.7445768e-01]\n",
            " [9.9999607e-01]\n",
            " [9.5896169e-08]\n",
            " [2.0467565e-09]\n",
            " [1.9410163e-02]\n",
            " [2.4073749e-10]\n",
            " [9.9999428e-01]\n",
            " [9.9999797e-01]\n",
            " [9.9999094e-01]\n",
            " [1.0000000e+00]\n",
            " [9.9999976e-01]\n",
            " [9.6882075e-01]\n",
            " [1.5961326e-21]\n",
            " [2.4015009e-03]\n",
            " [1.1676591e-07]\n",
            " [1.0000000e+00]\n",
            " [9.9999768e-01]\n",
            " [2.7958805e-07]\n",
            " [9.2380357e-01]\n",
            " [1.2179643e-32]\n",
            " [2.6068336e-10]\n",
            " [4.3863109e-16]\n",
            " [1.0000000e+00]\n",
            " [4.3228537e-01]\n",
            " [4.3185240e-11]\n",
            " [9.9997360e-01]\n",
            " [2.0652801e-02]\n",
            " [4.9604492e-14]\n",
            " [9.4196057e-01]\n",
            " [1.0000000e+00]\n",
            " [9.9850726e-01]\n",
            " [9.9999487e-01]\n",
            " [1.0000000e+00]\n",
            " [9.9751353e-04]\n",
            " [8.3049522e-30]\n",
            " [1.5131858e-11]\n",
            " [1.0000000e+00]\n",
            " [3.1805038e-03]\n",
            " [1.0000000e+00]\n",
            " [1.0000000e+00]\n",
            " [1.0000000e+00]\n",
            " [4.5999943e-10]\n",
            " [3.7452461e-24]\n",
            " [1.0000000e+00]\n",
            " [3.9195925e-01]\n",
            " [9.0249038e-01]\n",
            " [8.0773162e-08]\n",
            " [1.0000000e+00]\n",
            " [9.9999666e-01]\n",
            " [1.5291095e-17]\n",
            " [9.9999571e-01]\n",
            " [9.9999779e-01]\n",
            " [9.9999952e-01]\n",
            " [1.0000000e+00]\n",
            " [9.9797904e-01]\n",
            " [9.9957156e-01]\n",
            " [9.9399590e-01]\n",
            " [2.2028285e-10]\n",
            " [1.0000000e+00]\n",
            " [1.3580753e-15]\n",
            " [9.8979181e-01]\n",
            " [3.2769510e-01]\n",
            " [1.0000000e+00]\n",
            " [9.9994683e-01]\n",
            " [1.3145807e-11]\n",
            " [2.3355787e-10]\n",
            " [5.1665294e-01]]\n"
          ],
          "name": "stdout"
        }
      ]
    },
    {
      "cell_type": "code",
      "metadata": {
        "colab": {
          "base_uri": "https://localhost:8080/"
        },
        "id": "wgFYSFPtc_lY",
        "outputId": "fb9785d6-ce65-4848-8fb4-954d08717a93"
      },
      "source": [
        "9.15465236e-01"
      ],
      "execution_count": 120,
      "outputs": [
        {
          "output_type": "execute_result",
          "data": {
            "text/plain": [
              "0.915465236"
            ]
          },
          "metadata": {
            "tags": []
          },
          "execution_count": 120
        }
      ]
    },
    {
      "cell_type": "code",
      "metadata": {
        "colab": {
          "base_uri": "https://localhost:8080/"
        },
        "id": "YRGO0xu8eSDq",
        "outputId": "049a55aa-bae3-4fb6-c8eb-e3b6ea92e935"
      },
      "source": [
        "import numpy as np\n",
        "y_pred = np.round(y_pred).flatten()\n",
        "y_pred"
      ],
      "execution_count": 122,
      "outputs": [
        {
          "output_type": "execute_result",
          "data": {
            "text/plain": [
              "array([0., 1., 1., 1., 1., 1., 1., 1., 1., 1., 1., 1., 1., 0., 1., 0., 1.,\n",
              "       0., 0., 0., 0., 0., 1., 1., 0., 1., 1., 0., 1., 0., 1., 0., 1., 0.,\n",
              "       1., 0., 1., 0., 1., 0., 0., 1., 0., 1., 1., 0., 1., 1., 1., 0., 0.,\n",
              "       0., 0., 1., 1., 1., 1., 1., 1., 0., 0., 0., 1., 1., 0., 1., 0., 0.,\n",
              "       0., 1., 0., 0., 1., 0., 0., 1., 1., 1., 1., 1., 0., 0., 0., 1., 0.,\n",
              "       1., 1., 1., 0., 0., 1., 0., 1., 0., 1., 1., 0., 1., 1., 1., 1., 1.,\n",
              "       1., 1., 0., 1., 0., 1., 0., 1., 1., 0., 0., 1.], dtype=float32)"
            ]
          },
          "metadata": {
            "tags": []
          },
          "execution_count": 122
        }
      ]
    },
    {
      "cell_type": "code",
      "metadata": {
        "colab": {
          "base_uri": "https://localhost:8080/"
        },
        "id": "clUq15J6ZVqx",
        "outputId": "8988bc1a-3f3f-4751-8492-e1aee59d5a99"
      },
      "source": [
        "#Function to get model accuracy\n",
        "\n",
        "from sklearn.metrics import accuracy_score\n",
        "print('Accuracy Score:',accuracy_score(y_test,y_pred))"
      ],
      "execution_count": 123,
      "outputs": [
        {
          "output_type": "stream",
          "text": [
            "Accuracy Score: 0.9736842105263158\n"
          ],
          "name": "stdout"
        }
      ]
    },
    {
      "cell_type": "code",
      "metadata": {
        "colab": {
          "base_uri": "https://localhost:8080/"
        },
        "id": "VcMdZLNkdU1t",
        "outputId": "7f408535-3888-416e-ab07-0fd86e9a6254"
      },
      "source": [
        "from sklearn.metrics import confusion_matrix\n",
        "confusion_matrix(y_test,y_pred)"
      ],
      "execution_count": 124,
      "outputs": [
        {
          "output_type": "execute_result",
          "data": {
            "text/plain": [
              "array([[46,  1],\n",
              "       [ 2, 65]])"
            ]
          },
          "metadata": {
            "tags": []
          },
          "execution_count": 124
        }
      ]
    },
    {
      "cell_type": "code",
      "metadata": {
        "colab": {
          "base_uri": "https://localhost:8080/"
        },
        "id": "i7h-jdllgAtt",
        "outputId": "c8af706c-3b9d-408b-f593-9b958f9723cd"
      },
      "source": [
        "from sklearn.metrics import classification_report\n",
        "print(classification_report(y_test,y_pred))"
      ],
      "execution_count": 125,
      "outputs": [
        {
          "output_type": "stream",
          "text": [
            "              precision    recall  f1-score   support\n",
            "\n",
            "           0       0.96      0.98      0.97        47\n",
            "           1       0.98      0.97      0.98        67\n",
            "\n",
            "    accuracy                           0.97       114\n",
            "   macro avg       0.97      0.97      0.97       114\n",
            "weighted avg       0.97      0.97      0.97       114\n",
            "\n"
          ],
          "name": "stdout"
        }
      ]
    },
    {
      "cell_type": "code",
      "metadata": {
        "id": "CjKxI5bCgR5O"
      },
      "source": [
        ""
      ],
      "execution_count": null,
      "outputs": []
    }
  ]
}